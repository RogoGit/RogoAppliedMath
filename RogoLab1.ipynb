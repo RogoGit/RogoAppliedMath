{
 "cells": [
  {
   "cell_type": "code",
   "execution_count": 42,
   "metadata": {
    "collapsed": true
   },
   "outputs": [],
   "source": [
    "#imports\n",
    "import math\n",
    "\n",
    "# useful structures\n",
    "dict_p_i = {} # dictionary for probability\n",
    "dict_h_i = {} # dictionary for entropy\n",
    "dict_pair_p_i = {} # dictionary for pair probability\n",
    "dict_pair_h_i = {} # dictionary for pair entropy\n",
    "\n",
    "#useful variables\n",
    "ch_num = 0.0 # number of characters in text\n",
    "H = 0.0 # entropy"
   ]
  },
  {
   "cell_type": "code",
   "execution_count": 43,
   "metadata": {},
   "outputs": [],
   "source": [
    "# functions we need\n",
    "\n",
    "def task_one(filename):\n",
    "    global H\n",
    "    for i in dict_p_i:\n",
    "        # symb probability\n",
    "        dict_p_i[i] = dict_p_i[i]/ch_num\n",
    "        # symb entropy\n",
    "        dict_h_i[i] = math.log2(1/dict_p_i[i])\n",
    "        # entropy\n",
    "        H -= dict_p_i[i] * math.log2(dict_p_i[i])\n",
    "        \n",
    "    # printing results    \n",
    "    print(f'\\nFile: {filename}; Entropy: {H:.4f}\\n')\n",
    "    print(f'NOTE: ... - is a punctuation sign\\n')\n",
    "    print('Symbol: |   Probability: |   Entropy:')\n",
    "    for i in dict_p_i:\n",
    "        print(f'{i:8.4}| {dict_p_i[i]:8.4f}       | {dict_h_i[i]:8.4f}')    "
   ]
  },
  {
   "cell_type": "code",
   "execution_count": 44,
   "metadata": {},
   "outputs": [
    {
     "name": "stdout",
     "output_type": "stream",
     "text": [
      "Enter the filename\n",
      "GreatExpectations.txt\n",
      "\n",
      "File: GreatExpectations.txt; Entropy: 4.1713\n",
      "\n",
      "NOTE: ... - is a punctuation sign\n",
      "\n",
      "Symbol: |   Probability: |   Entropy:\n",
      "M       |   0.0241       |   5.3721\n",
      "Y       |   0.0178       |   5.8140\n",
      "        |   0.1850       |   2.4347\n",
      "F       |   0.0170       |   5.8815\n",
      "A       |   0.0635       |   3.9771\n",
      "T       |   0.0690       |   3.8566\n",
      "H       |   0.0497       |   4.3304\n",
      "E       |   0.0879       |   3.5075\n",
      "R       |   0.0406       |   4.6211\n",
      "...     |   0.0545       |   4.1975\n",
      "S       |   0.0444       |   4.4938\n",
      "I       |   0.0568       |   4.1376\n",
      "L       |   0.0278       |   5.1693\n",
      "N       |   0.0507       |   4.3010\n",
      "B       |   0.0114       |   6.4609\n",
      "G       |   0.0177       |   5.8161\n",
      "P       |   0.0127       |   6.3033\n",
      "D       |   0.0365       |   4.7752\n",
      "C       |   0.0153       |   6.0318\n",
      "O       |   0.0580       |   4.1073\n",
      "U       |   0.0220       |   5.5049\n",
      "K       |   0.0077       |   7.0293\n",
      "X       |   0.0009       |  10.1317\n",
      "V       |   0.0062       |   7.3304\n",
      "J       |   0.0023       |   8.7434\n",
      "W       |   0.0194       |   5.6897\n",
      "Q       |   0.0008       |  10.3122\n",
      "Z       |   0.0003       |  11.8972\n"
     ]
    }
   ],
   "source": [
    "#main part\n",
    "\n",
    "print(\"Enter the filename\")\n",
    "try:\n",
    "    # opening file\n",
    "    # - Cthulhu.txt - WhiteFang.txt - GreatExpectations.txt -\n",
    "    filename = input()\n",
    "    file = open(f'{filename}','r')\n",
    "    \n",
    "    #iterating through text\n",
    "    for ch in file.read():\n",
    "        # validation\n",
    "        if (ch.isalpha() or ch.isdigit()):\n",
    "            character = ch.upper()\n",
    "        else:\n",
    "            character = \"...\" # punctuation marks\n",
    "        if (ch == ' '):\n",
    "            character = \" \"\n",
    "        if character in dict_p_i:\n",
    "            # one more\n",
    "            dict_p_i[character] += 1.0\n",
    "        else:\n",
    "            # new char\n",
    "            dict_p_i[character] = 1.0     \n",
    "        \n",
    "        # calculating symbols\n",
    "        ch_num += 1.0\n",
    "   \n",
    "    task_one(filename)\n",
    "\n",
    "except Exception:\n",
    "    print(\"No such file found\")\n",
    "\n",
    "\n",
    "\n"
   ]
  }
 ],
 "metadata": {
  "kernelspec": {
   "display_name": "Python 3",
   "language": "python",
   "name": "python3"
  },
  "language_info": {
   "codemirror_mode": {
    "name": "ipython",
    "version": 3
   },
   "file_extension": ".py",
   "mimetype": "text/x-python",
   "name": "python",
   "nbconvert_exporter": "python",
   "pygments_lexer": "ipython3",
   "version": "3.6.3"
  }
 },
 "nbformat": 4,
 "nbformat_minor": 2
}
