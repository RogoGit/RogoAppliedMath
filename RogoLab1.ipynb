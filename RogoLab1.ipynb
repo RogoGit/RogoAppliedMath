{
 "cells": [
  {
   "cell_type": "code",
   "execution_count": 1,
   "metadata": {
    "collapsed": true
   },
   "outputs": [],
   "source": [
    "#imports\n",
    "import math\n",
    "\n",
    "# useful structures\n",
    "dict_p_i = {} # dictionary for probability\n",
    "dict_h_i = {} # dictionary for entropy\n",
    "dict_pair_p_i = {} # dictionary for pair probability\n",
    "dict_pair_h_i = {} # dictionary for pair entropy\n",
    "\n",
    "#useful variables\n",
    "ch_num = 0.0 # number of characters in text"
   ]
  },
  {
   "cell_type": "code",
   "execution_count": null,
   "metadata": {
    "collapsed": true
   },
   "outputs": [],
   "source": []
  },
  {
   "cell_type": "code",
   "execution_count": null,
   "metadata": {
    "collapsed": true
   },
   "outputs": [],
   "source": [
    "\n",
    "\n",
    "print(\"Enter the filename\")\n",
    "try:\n",
    "    # opening file\n",
    "    # - Cthulhu.txt - WhiteFang.txt - GreatExpectations.txt -\n",
    "    filename = input()\n",
    "    file = open(filename, 'r')\n",
    "    \n",
    "    #iterating through text\n",
    "    for ch in file.read():\n",
    "        # validation\n",
    "        if (ch.isalpha() or ch.isdigit()):\n",
    "            character = ch.upper()\n",
    "        else:\n",
    "            character = \"Punc. marks\"\n",
    "        if (ch == ' '):\n",
    "            character = \" \"\n",
    "        if character in dict_p_i:\n",
    "            # one more\n",
    "            dict_p_i[character] += 1.0\n",
    "        else:\n",
    "            # new char\n",
    "            dict_p_i[character] = 1.0     \n",
    "        \n",
    "        # calculating symbols\n",
    "        ch_num += 1.0\n",
    "   \n",
    "\n",
    "except Exception:\n",
    "    print(\"No such file found\")\n",
    "\n",
    "\n"
   ]
  }
 ],
 "metadata": {
  "kernelspec": {
   "display_name": "Python 3",
   "language": "python",
   "name": "python3"
  },
  "language_info": {
   "codemirror_mode": {
    "name": "ipython",
    "version": 3
   },
   "file_extension": ".py",
   "mimetype": "text/x-python",
   "name": "python",
   "nbconvert_exporter": "python",
   "pygments_lexer": "ipython3",
   "version": "3.6.3"
  }
 },
 "nbformat": 4,
 "nbformat_minor": 2
}
